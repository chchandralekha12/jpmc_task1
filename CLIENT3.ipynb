{
 "cells": [
  {
   "cell_type": "code",
   "execution_count": null,
   "id": "97bad8c5",
   "metadata": {},
   "outputs": [],
   "source": [
    "import json\n",
    "import random\n",
    "import urllib.request\n",
    "\n",
    "# Server API URLs\n",
    "QUERY = \"http://localhost:8080/query?id={}\"\n",
    "\n",
    "# 500 server request\n",
    "N = 500\n",
    "\n",
    "\n",
    "def getDataPoint(quote):\n",
    "    \"\"\" Produce all the needed values to generate a datapoint \"\"\"\n",
    "    \"\"\" ------------- Update this function ------------- \"\"\"\n",
    "    stock = quote['stock']\n",
    "    bid_price = float(quote['top_bid']['price'])\n",
    "    ask_price = float(quote['top_ask']['price'])\n",
    "    price = (bid_price/ask_price)/2\n",
    "    return stock, bid_price, ask_price, price\n",
    "\n",
    "\n",
    "def getRatio(price_a, price_b):\n",
    "    \"\"\" Get ratio of price_a and price_b \"\"\"\n",
    "    \"\"\" ------------- Update this function ------------- \"\"\"\n",
    "    if (price_b==0):\n",
    "        return\n",
    "    return price_a/price_b\n",
    "\n",
    "\n",
    "# Main\n",
    "if __name__ == \"__main__\":\n",
    "    # Query the price once every N seconds.\n",
    "    for _ in iter(range(N)):\n",
    "        quotes = json.loads(urllib.request.urlopen(QUERY.format(random.random())).read())\n",
    "\n",
    "        \"\"\" ----------- Update to get the ratio --------------- \"\"\"\n",
    "        for quote in quotes:\n",
    "            stock, bid_price, ask_price, price = getDataPoint(quote)\n",
    "            print(\"Quoted %s at (bid:%s, ask:%s, price:%s)\" % (stock, bid_price, ask_price, price))\n",
    "\n",
    "        print(\"Ratio %s\" % getRatio(price['ABC'], price['DEF']))\n",
    "\n"
   ]
  }
 ],
 "metadata": {
  "kernelspec": {
   "display_name": "Python 3",
   "language": "python",
   "name": "python3"
  },
  "language_info": {
   "codemirror_mode": {
    "name": "ipython",
    "version": 3
   },
   "file_extension": ".py",
   "mimetype": "text/x-python",
   "name": "python",
   "nbconvert_exporter": "python",
   "pygments_lexer": "ipython3",
   "version": "3.8.8"
  }
 },
 "nbformat": 4,
 "nbformat_minor": 5
}
